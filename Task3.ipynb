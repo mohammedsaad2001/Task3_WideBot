{
 "cells": [
  {
   "cell_type": "markdown",
   "id": "44a0d6ac",
   "metadata": {},
   "source": [
    "\n",
    "# Task3\n",
    "\n",
    "## Table of Contents\n",
    "### 1. Data Cleaning and Preprocessing\n",
    "### 2. Build Classifier\n",
    "### 3. Conclusion\n"
   ]
  },
  {
   "cell_type": "markdown",
   "id": "f2625389",
   "metadata": {},
   "source": [
    "###### Import libraries"
   ]
  },
  {
   "cell_type": "code",
   "execution_count": 1,
   "id": "77eba53c",
   "metadata": {},
   "outputs": [],
   "source": [
    "import pandas as pd\n",
    "from nltk.tokenize import word_tokenize,RegexpTokenizer\n",
    "from bidi.algorithm import get_display\n",
    "from sklearn.feature_extraction.text import CountVectorizer ,TfidfVectorizer\n",
    "from sklearn.utils import shuffle\n",
    "from sklearn.linear_model import SGDClassifier\n",
    "from sklearn.metrics import classification_report, confusion_matrix, plot_confusion_matrix,accuracy_score\n",
    "import matplotlib.pyplot as plt"
   ]
  },
  {
   "cell_type": "code",
   "execution_count": 2,
   "id": "32f27379",
   "metadata": {},
   "outputs": [],
   "source": [
    "# read data set and concat different files\n",
    "Data_Stories = pd.DataFrame()\n",
    "Files = [\"tamazight\",\"sport\",\"societe\",\"regions\",\"politique\",\"orbites\",\"medias\",\"marocains-du-monde\",\"faits-divers\",\"economie\",\"art-et-culture\"]\n",
    "# read each file in our dataset\n",
    "for File in Files:\n",
    "  Data_Stories = pd.concat([Data_Stories,pd.read_csv(\"stories_\"+File+\".csv\",encoding='utf-8')])"
   ]
  },
  {
   "cell_type": "code",
   "execution_count": 3,
   "id": "8026ebad",
   "metadata": {},
   "outputs": [
    {
     "data": {
      "text/html": [
       "<div>\n",
       "<style scoped>\n",
       "    .dataframe tbody tr th:only-of-type {\n",
       "        vertical-align: middle;\n",
       "    }\n",
       "\n",
       "    .dataframe tbody tr th {\n",
       "        vertical-align: top;\n",
       "    }\n",
       "\n",
       "    .dataframe thead th {\n",
       "        text-align: right;\n",
       "    }\n",
       "</style>\n",
       "<table border=\"1\" class=\"dataframe\">\n",
       "  <thead>\n",
       "    <tr style=\"text-align: right;\">\n",
       "      <th></th>\n",
       "      <th>Unnamed: 0</th>\n",
       "      <th>id</th>\n",
       "      <th>title</th>\n",
       "      <th>date</th>\n",
       "      <th>author</th>\n",
       "      <th>story</th>\n",
       "      <th>topic</th>\n",
       "    </tr>\n",
       "  </thead>\n",
       "  <tbody>\n",
       "    <tr>\n",
       "      <th>0</th>\n",
       "      <td>0</td>\n",
       "      <td>9de52a46055311eb8949646e69d991ea</td>\n",
       "      <td>وزارة التربية: لا تغيير في الغلاف الزمني للأما...</td>\n",
       "      <td>السبت 03 أكتوبر 2020 - 00:02</td>\n",
       "      <td>هسبريس من الرباط</td>\n",
       "      <td>قالت وزارة التربية الوطنية والتكوين المهني وال...</td>\n",
       "      <td>tamazight</td>\n",
       "    </tr>\n",
       "    <tr>\n",
       "      <th>1</th>\n",
       "      <td>1</td>\n",
       "      <td>9ee74b02055311ebb757646e69d991ea</td>\n",
       "      <td>\"تغييب\" تدريس الأمازيغية يغضب نقابات بتزنيت</td>\n",
       "      <td>الاثنين 28 شتنبر 2020 - 09:13</td>\n",
       "      <td>رشيد بيجيكن من أكادير</td>\n",
       "      <td>طالبت الكتابة الإقليمية للجامعة الوطنية للتعلي...</td>\n",
       "      <td>tamazight</td>\n",
       "    </tr>\n",
       "    <tr>\n",
       "      <th>2</th>\n",
       "      <td>2</td>\n",
       "      <td>9fed7812055311eb9158646e69d991ea</td>\n",
       "      <td>مرصد يستنكر رفض قبول أستاذة أمازيغية بمدرسة</td>\n",
       "      <td>الاثنين 28 شتنبر 2020 - 00:41</td>\n",
       "      <td>هسبريس من الرباط</td>\n",
       "      <td>أفاد المرصد الأمازيغي للحقوق والحريات أنه توصل...</td>\n",
       "      <td>tamazight</td>\n",
       "    </tr>\n",
       "    <tr>\n",
       "      <th>3</th>\n",
       "      <td>3</td>\n",
       "      <td>a0e39038055311eb8f78646e69d991ea</td>\n",
       "      <td>نص امتحان موحد يثير حنق فعاليات أمازيغية</td>\n",
       "      <td>السبت 26 شتنبر 2020 - 17:28</td>\n",
       "      <td>هسبريس من الرّباط</td>\n",
       "      <td>سجلت فعاليات مدنية أمازيغية عديدة امتعاضها من ...</td>\n",
       "      <td>tamazight</td>\n",
       "    </tr>\n",
       "    <tr>\n",
       "      <th>4</th>\n",
       "      <td>4</td>\n",
       "      <td>a1d90814055311eb879e646e69d991ea</td>\n",
       "      <td>\"عادل تيزنيت\" يتحف المغاربة بالموسيقى الأمازيغية</td>\n",
       "      <td>السبت 26 شتنبر 2020 - 15:50</td>\n",
       "      <td>هسبريس من الرباط</td>\n",
       "      <td>من داخل سيارة بسيطة يركنها بالمدخل الشمالي لمد...</td>\n",
       "      <td>tamazight</td>\n",
       "    </tr>\n",
       "  </tbody>\n",
       "</table>\n",
       "</div>"
      ],
      "text/plain": [
       "   Unnamed: 0                                id  \\\n",
       "0           0  9de52a46055311eb8949646e69d991ea   \n",
       "1           1  9ee74b02055311ebb757646e69d991ea   \n",
       "2           2  9fed7812055311eb9158646e69d991ea   \n",
       "3           3  a0e39038055311eb8f78646e69d991ea   \n",
       "4           4  a1d90814055311eb879e646e69d991ea   \n",
       "\n",
       "                                               title  \\\n",
       "0  وزارة التربية: لا تغيير في الغلاف الزمني للأما...   \n",
       "1        \"تغييب\" تدريس الأمازيغية يغضب نقابات بتزنيت   \n",
       "2        مرصد يستنكر رفض قبول أستاذة أمازيغية بمدرسة   \n",
       "3           نص امتحان موحد يثير حنق فعاليات أمازيغية   \n",
       "4   \"عادل تيزنيت\" يتحف المغاربة بالموسيقى الأمازيغية   \n",
       "\n",
       "                            date                 author  \\\n",
       "0   السبت 03 أكتوبر 2020 - 00:02       هسبريس من الرباط   \n",
       "1  الاثنين 28 شتنبر 2020 - 09:13  رشيد بيجيكن من أكادير   \n",
       "2  الاثنين 28 شتنبر 2020 - 00:41       هسبريس من الرباط   \n",
       "3    السبت 26 شتنبر 2020 - 17:28      هسبريس من الرّباط   \n",
       "4    السبت 26 شتنبر 2020 - 15:50       هسبريس من الرباط   \n",
       "\n",
       "                                               story      topic  \n",
       "0  قالت وزارة التربية الوطنية والتكوين المهني وال...  tamazight  \n",
       "1  طالبت الكتابة الإقليمية للجامعة الوطنية للتعلي...  tamazight  \n",
       "2  أفاد المرصد الأمازيغي للحقوق والحريات أنه توصل...  tamazight  \n",
       "3  سجلت فعاليات مدنية أمازيغية عديدة امتعاضها من ...  tamazight  \n",
       "4  من داخل سيارة بسيطة يركنها بالمدخل الشمالي لمد...  tamazight  "
      ]
     },
     "execution_count": 3,
     "metadata": {},
     "output_type": "execute_result"
    }
   ],
   "source": [
    "Data_Stories.head()"
   ]
  },
  {
   "cell_type": "code",
   "execution_count": 4,
   "id": "42724a73",
   "metadata": {},
   "outputs": [],
   "source": [
    "# remove unwanted columns\n",
    "Data_Stories.drop(columns=[\"Unnamed: 0\"],axis=1,inplace=True)"
   ]
  },
  {
   "cell_type": "code",
   "execution_count": 5,
   "id": "53e803f6",
   "metadata": {},
   "outputs": [
    {
     "data": {
      "text/html": [
       "<div>\n",
       "<style scoped>\n",
       "    .dataframe tbody tr th:only-of-type {\n",
       "        vertical-align: middle;\n",
       "    }\n",
       "\n",
       "    .dataframe tbody tr th {\n",
       "        vertical-align: top;\n",
       "    }\n",
       "\n",
       "    .dataframe thead th {\n",
       "        text-align: right;\n",
       "    }\n",
       "</style>\n",
       "<table border=\"1\" class=\"dataframe\">\n",
       "  <thead>\n",
       "    <tr style=\"text-align: right;\">\n",
       "      <th></th>\n",
       "      <th>id</th>\n",
       "      <th>title</th>\n",
       "      <th>date</th>\n",
       "      <th>author</th>\n",
       "      <th>story</th>\n",
       "      <th>topic</th>\n",
       "    </tr>\n",
       "  </thead>\n",
       "  <tbody>\n",
       "    <tr>\n",
       "      <th>995</th>\n",
       "      <td>97e7b078055311eb972a646e69d991ea</td>\n",
       "      <td>مِهَنيّون: غياب توقيع رئيس الحكومة يوقف 200 مش...</td>\n",
       "      <td>الاثنين 18 نونبر 2019 - 00:25</td>\n",
       "      <td>هسبريس - وائل بورشاشن</td>\n",
       "      <td>تستمرّ الآثار الجانبية للانتقال الحكومي الأخير...</td>\n",
       "      <td>art-et-culture</td>\n",
       "    </tr>\n",
       "    <tr>\n",
       "      <th>996</th>\n",
       "      <td>98f7723e055311ebb811646e69d991ea</td>\n",
       "      <td>ندوة تقارب \"جهود السوسيين\" في خدمة العربية</td>\n",
       "      <td>الأحد 17 نونبر 2019 - 11:15</td>\n",
       "      <td>الحسين حرّان</td>\n",
       "      <td>قال الدكتور المهدي السعيدي، في ندوة حول \"جهود ...</td>\n",
       "      <td>art-et-culture</td>\n",
       "    </tr>\n",
       "    <tr>\n",
       "      <th>997</th>\n",
       "      <td>9a29bc06055311ebbb05646e69d991ea</td>\n",
       "      <td>تتويج أشرطة في مهرجان سينما الذاكرة المشتركة</td>\n",
       "      <td>السبت 16 نونبر 2019 - 20:17</td>\n",
       "      <td>هسبريس من الرباط</td>\n",
       "      <td>أجمعت لجنة المسابقة الخاصة بالأفلام المغربية ا...</td>\n",
       "      <td>art-et-culture</td>\n",
       "    </tr>\n",
       "    <tr>\n",
       "      <th>998</th>\n",
       "      <td>9b547968055311ebb870646e69d991ea</td>\n",
       "      <td>ريشة التشكيلية بثينة أزمي تتمرد على الظلم والع...</td>\n",
       "      <td>السبت 16 نونبر 2019 - 10:00</td>\n",
       "      <td>هسبريس - كاميليا كريم</td>\n",
       "      <td>ألوان حيّة ولمسات تعبيرية تحْمل مآسي إنسانية ل...</td>\n",
       "      <td>art-et-culture</td>\n",
       "    </tr>\n",
       "    <tr>\n",
       "      <th>999</th>\n",
       "      <td>9c6b8f50055311eb9c5c646e69d991ea</td>\n",
       "      <td>مسرحية \"بوحجبان\" تبدأ جولة وطنية من مدينة خريبكة</td>\n",
       "      <td>السبت 16 نونبر 2019 - 04:20</td>\n",
       "      <td>هسبريس من الرباط</td>\n",
       "      <td>تقوم فرقة مسرح \"سفر\" بجولة وطنية لتقديم مسرحيت...</td>\n",
       "      <td>art-et-culture</td>\n",
       "    </tr>\n",
       "  </tbody>\n",
       "</table>\n",
       "</div>"
      ],
      "text/plain": [
       "                                   id  \\\n",
       "995  97e7b078055311eb972a646e69d991ea   \n",
       "996  98f7723e055311ebb811646e69d991ea   \n",
       "997  9a29bc06055311ebbb05646e69d991ea   \n",
       "998  9b547968055311ebb870646e69d991ea   \n",
       "999  9c6b8f50055311eb9c5c646e69d991ea   \n",
       "\n",
       "                                                 title  \\\n",
       "995  مِهَنيّون: غياب توقيع رئيس الحكومة يوقف 200 مش...   \n",
       "996         ندوة تقارب \"جهود السوسيين\" في خدمة العربية   \n",
       "997       تتويج أشرطة في مهرجان سينما الذاكرة المشتركة   \n",
       "998  ريشة التشكيلية بثينة أزمي تتمرد على الظلم والع...   \n",
       "999   مسرحية \"بوحجبان\" تبدأ جولة وطنية من مدينة خريبكة   \n",
       "\n",
       "                              date                 author  \\\n",
       "995  الاثنين 18 نونبر 2019 - 00:25  هسبريس - وائل بورشاشن   \n",
       "996    الأحد 17 نونبر 2019 - 11:15           الحسين حرّان   \n",
       "997    السبت 16 نونبر 2019 - 20:17       هسبريس من الرباط   \n",
       "998    السبت 16 نونبر 2019 - 10:00  هسبريس - كاميليا كريم   \n",
       "999    السبت 16 نونبر 2019 - 04:20       هسبريس من الرباط   \n",
       "\n",
       "                                                 story           topic  \n",
       "995  تستمرّ الآثار الجانبية للانتقال الحكومي الأخير...  art-et-culture  \n",
       "996  قال الدكتور المهدي السعيدي، في ندوة حول \"جهود ...  art-et-culture  \n",
       "997  أجمعت لجنة المسابقة الخاصة بالأفلام المغربية ا...  art-et-culture  \n",
       "998  ألوان حيّة ولمسات تعبيرية تحْمل مآسي إنسانية ل...  art-et-culture  \n",
       "999  تقوم فرقة مسرح \"سفر\" بجولة وطنية لتقديم مسرحيت...  art-et-culture  "
      ]
     },
     "execution_count": 5,
     "metadata": {},
     "output_type": "execute_result"
    }
   ],
   "source": [
    "# check the dataframe\n",
    "Data_Stories.tail()"
   ]
  },
  {
   "cell_type": "code",
   "execution_count": 6,
   "id": "8eda4a1c",
   "metadata": {},
   "outputs": [
    {
     "data": {
      "text/plain": [
       "(11000, 6)"
      ]
     },
     "execution_count": 6,
     "metadata": {},
     "output_type": "execute_result"
    }
   ],
   "source": [
    "Data_Stories.shape"
   ]
  },
  {
   "cell_type": "markdown",
   "id": "01a45202",
   "metadata": {},
   "source": [
    "## Data Cleaning\n",
    "1. Removing Stop Words.\n",
    "2. Removing Punctuation."
   ]
  },
  {
   "cell_type": "code",
   "execution_count": 7,
   "id": "ef11b957",
   "metadata": {},
   "outputs": [],
   "source": [
    "# Open the file containing the list of stop words and read its contents into a list\n",
    "stop_words = open('list.txt', 'r', encoding='utf-8').read().splitlines() \n",
    "\n",
    "# Define a function to remove stop words from a given text using a list of stopwords\n",
    "def removeStopWords(text, stopwords):\n",
    "    # Tokenize the text into individual words\n",
    "    text_tokens = word_tokenize(text)\n",
    "    # Remove any words that are in the list of stopwords\n",
    "    return \" \".join([word for word in text_tokens if not word in stopwords])\n",
    "\n",
    "# Define a function to remove punctuation from a given text\n",
    "def removePunctuation(text):\n",
    "    # Create a tokenizer that matches any sequence of one or more alphanumeric characters\n",
    "    tokenizer = RegexpTokenizer(r'\\w+')\n",
    "    # Tokenize the text using the tokenizer and join the resulting tokens back into a string\n",
    "    return \" \".join(tokenizer.tokenize(text))\n"
   ]
  },
  {
   "cell_type": "code",
   "execution_count": 8,
   "id": "f8ee39a4",
   "metadata": {},
   "outputs": [],
   "source": [
    "# Define a function to preprocess a given text by removing stop words and punctuation\n",
    "def preprocessText(text, stopwords):\n",
    "    # Remove stop words from the text\n",
    "    text_no_stopwords = removeStopWords(text, stopwords)\n",
    "    # Remove punctuation from the text\n",
    "    text_no_punctuation = removePunctuation(text_no_stopwords)\n",
    "    # If the wordcloud flag is set to False, return the text without reshaping it\n",
    "    return text_no_punctuation"
   ]
  },
  {
   "cell_type": "code",
   "execution_count": 9,
   "id": "ac1c5de5",
   "metadata": {},
   "outputs": [],
   "source": [
    "#Clean the stories \n",
    "Data_Stories[\"storyClean\"]=Data_Stories[\"story\"].apply(lambda s: preprocessText(s,stop_words))\n"
   ]
  },
  {
   "cell_type": "code",
   "execution_count": 10,
   "id": "0e2ecb13",
   "metadata": {
    "scrolled": true
   },
   "outputs": [
    {
     "data": {
      "text/html": [
       "<div>\n",
       "<style scoped>\n",
       "    .dataframe tbody tr th:only-of-type {\n",
       "        vertical-align: middle;\n",
       "    }\n",
       "\n",
       "    .dataframe tbody tr th {\n",
       "        vertical-align: top;\n",
       "    }\n",
       "\n",
       "    .dataframe thead th {\n",
       "        text-align: right;\n",
       "    }\n",
       "</style>\n",
       "<table border=\"1\" class=\"dataframe\">\n",
       "  <thead>\n",
       "    <tr style=\"text-align: right;\">\n",
       "      <th></th>\n",
       "      <th>id</th>\n",
       "      <th>title</th>\n",
       "      <th>date</th>\n",
       "      <th>author</th>\n",
       "      <th>story</th>\n",
       "      <th>topic</th>\n",
       "      <th>storyClean</th>\n",
       "    </tr>\n",
       "  </thead>\n",
       "  <tbody>\n",
       "    <tr>\n",
       "      <th>0</th>\n",
       "      <td>9de52a46055311eb8949646e69d991ea</td>\n",
       "      <td>وزارة التربية: لا تغيير في الغلاف الزمني للأما...</td>\n",
       "      <td>السبت 03 أكتوبر 2020 - 00:02</td>\n",
       "      <td>هسبريس من الرباط</td>\n",
       "      <td>قالت وزارة التربية الوطنية والتكوين المهني وال...</td>\n",
       "      <td>tamazight</td>\n",
       "      <td>قالت وزارة التربية الوطنية والتكوين المهني وال...</td>\n",
       "    </tr>\n",
       "    <tr>\n",
       "      <th>1</th>\n",
       "      <td>9ee74b02055311ebb757646e69d991ea</td>\n",
       "      <td>\"تغييب\" تدريس الأمازيغية يغضب نقابات بتزنيت</td>\n",
       "      <td>الاثنين 28 شتنبر 2020 - 09:13</td>\n",
       "      <td>رشيد بيجيكن من أكادير</td>\n",
       "      <td>طالبت الكتابة الإقليمية للجامعة الوطنية للتعلي...</td>\n",
       "      <td>tamazight</td>\n",
       "      <td>طالبت الكتابة الإقليمية للجامعة الوطنية للتعلي...</td>\n",
       "    </tr>\n",
       "    <tr>\n",
       "      <th>2</th>\n",
       "      <td>9fed7812055311eb9158646e69d991ea</td>\n",
       "      <td>مرصد يستنكر رفض قبول أستاذة أمازيغية بمدرسة</td>\n",
       "      <td>الاثنين 28 شتنبر 2020 - 00:41</td>\n",
       "      <td>هسبريس من الرباط</td>\n",
       "      <td>أفاد المرصد الأمازيغي للحقوق والحريات أنه توصل...</td>\n",
       "      <td>tamazight</td>\n",
       "      <td>أفاد المرصد الأمازيغي للحقوق والحريات توصل بمع...</td>\n",
       "    </tr>\n",
       "    <tr>\n",
       "      <th>3</th>\n",
       "      <td>a0e39038055311eb8f78646e69d991ea</td>\n",
       "      <td>نص امتحان موحد يثير حنق فعاليات أمازيغية</td>\n",
       "      <td>السبت 26 شتنبر 2020 - 17:28</td>\n",
       "      <td>هسبريس من الرّباط</td>\n",
       "      <td>سجلت فعاليات مدنية أمازيغية عديدة امتعاضها من ...</td>\n",
       "      <td>tamazight</td>\n",
       "      <td>سجلت فعاليات مدنية أمازيغية عديدة امتعاضها نص ...</td>\n",
       "    </tr>\n",
       "    <tr>\n",
       "      <th>4</th>\n",
       "      <td>a1d90814055311eb879e646e69d991ea</td>\n",
       "      <td>\"عادل تيزنيت\" يتحف المغاربة بالموسيقى الأمازيغية</td>\n",
       "      <td>السبت 26 شتنبر 2020 - 15:50</td>\n",
       "      <td>هسبريس من الرباط</td>\n",
       "      <td>من داخل سيارة بسيطة يركنها بالمدخل الشمالي لمد...</td>\n",
       "      <td>tamazight</td>\n",
       "      <td>داخل سيارة بسيطة يركنها بالمدخل الشمالي لمدينة...</td>\n",
       "    </tr>\n",
       "  </tbody>\n",
       "</table>\n",
       "</div>"
      ],
      "text/plain": [
       "                                 id  \\\n",
       "0  9de52a46055311eb8949646e69d991ea   \n",
       "1  9ee74b02055311ebb757646e69d991ea   \n",
       "2  9fed7812055311eb9158646e69d991ea   \n",
       "3  a0e39038055311eb8f78646e69d991ea   \n",
       "4  a1d90814055311eb879e646e69d991ea   \n",
       "\n",
       "                                               title  \\\n",
       "0  وزارة التربية: لا تغيير في الغلاف الزمني للأما...   \n",
       "1        \"تغييب\" تدريس الأمازيغية يغضب نقابات بتزنيت   \n",
       "2        مرصد يستنكر رفض قبول أستاذة أمازيغية بمدرسة   \n",
       "3           نص امتحان موحد يثير حنق فعاليات أمازيغية   \n",
       "4   \"عادل تيزنيت\" يتحف المغاربة بالموسيقى الأمازيغية   \n",
       "\n",
       "                            date                 author  \\\n",
       "0   السبت 03 أكتوبر 2020 - 00:02       هسبريس من الرباط   \n",
       "1  الاثنين 28 شتنبر 2020 - 09:13  رشيد بيجيكن من أكادير   \n",
       "2  الاثنين 28 شتنبر 2020 - 00:41       هسبريس من الرباط   \n",
       "3    السبت 26 شتنبر 2020 - 17:28      هسبريس من الرّباط   \n",
       "4    السبت 26 شتنبر 2020 - 15:50       هسبريس من الرباط   \n",
       "\n",
       "                                               story      topic  \\\n",
       "0  قالت وزارة التربية الوطنية والتكوين المهني وال...  tamazight   \n",
       "1  طالبت الكتابة الإقليمية للجامعة الوطنية للتعلي...  tamazight   \n",
       "2  أفاد المرصد الأمازيغي للحقوق والحريات أنه توصل...  tamazight   \n",
       "3  سجلت فعاليات مدنية أمازيغية عديدة امتعاضها من ...  tamazight   \n",
       "4  من داخل سيارة بسيطة يركنها بالمدخل الشمالي لمد...  tamazight   \n",
       "\n",
       "                                          storyClean  \n",
       "0  قالت وزارة التربية الوطنية والتكوين المهني وال...  \n",
       "1  طالبت الكتابة الإقليمية للجامعة الوطنية للتعلي...  \n",
       "2  أفاد المرصد الأمازيغي للحقوق والحريات توصل بمع...  \n",
       "3  سجلت فعاليات مدنية أمازيغية عديدة امتعاضها نص ...  \n",
       "4  داخل سيارة بسيطة يركنها بالمدخل الشمالي لمدينة...  "
      ]
     },
     "execution_count": 10,
     "metadata": {},
     "output_type": "execute_result"
    }
   ],
   "source": [
    "Data_Stories.head()"
   ]
  },
  {
   "cell_type": "markdown",
   "id": "a99c27bf",
   "metadata": {},
   "source": [
    "### Take the last 20% of each file as a test-set"
   ]
  },
  {
   "cell_type": "code",
   "execution_count": 11,
   "id": "d66d5fa7",
   "metadata": {},
   "outputs": [],
   "source": [
    "# Take the first 800 rows of Data_Stories as the initial training data\n",
    "train_data = Data_Stories.iloc[0:800]\n",
    "# Take the next 200 rows of Data_Stories as the initial test data\n",
    "test_data = Data_Stories.iloc[800:1000]\n",
    "\n",
    "# Loop over the remaining rows of Data_Stories in increments of 1000\n",
    "for i in range(1000, len(Data_Stories), 1000):\n",
    "    # Take the next 800 rows of Data_Stories as the current training data\n",
    "    current_train_data = Data_Stories.iloc[i:i+800] # e.g., 1000 to 1800, 2000 to 2800\n",
    "    # Take the next 200 rows of Data_Stories as the current test data\n",
    "    current_test_data = Data_Stories.iloc[i+800:i+1000] # e.g., 1800 to 2000, 2800 to 3000\n",
    "    \n",
    "    # Concatenate the current training data with the previous training data\n",
    "    train_data = pd.concat([train_data, current_train_data], ignore_index=True)\n",
    "    # Concatenate the current test data with the previous test data\n",
    "    test_data = pd.concat([test_data, current_test_data], ignore_index=True)"
   ]
  },
  {
   "cell_type": "code",
   "execution_count": 12,
   "id": "0bcc327c",
   "metadata": {},
   "outputs": [
    {
     "data": {
      "text/plain": [
       "0.2"
      ]
     },
     "execution_count": 12,
     "metadata": {},
     "output_type": "execute_result"
    }
   ],
   "source": [
    "len(test_data)/len(Data_Stories)"
   ]
  },
  {
   "cell_type": "markdown",
   "id": "d3a099b4",
   "metadata": {},
   "source": [
    "## Build Classifier (SGD)"
   ]
  },
  {
   "cell_type": "code",
   "execution_count": 13,
   "id": "e4028ad5",
   "metadata": {},
   "outputs": [
    {
     "name": "stdout",
     "output_type": "stream",
     "text": [
      "SGD Classifier\n",
      "                    precision    recall  f1-score   support\n",
      "\n",
      "    art-et-culture       0.83      0.90      0.86       200\n",
      "          economie       0.78      0.79      0.79       200\n",
      "      faits-divers       0.87      0.95      0.91       200\n",
      "marocains-du-monde       0.81      0.86      0.83       200\n",
      "            medias       0.89      0.86      0.88       200\n",
      "           orbites       0.55      0.46      0.50       200\n",
      "         politique       0.65      0.78      0.71       200\n",
      "           regions       0.82      0.78      0.80       200\n",
      "           societe       0.72      0.58      0.64       200\n",
      "             sport       0.97      0.97      0.97       200\n",
      "         tamazight       0.95      0.95      0.95       200\n",
      "\n",
      "          accuracy                           0.81      2200\n",
      "         macro avg       0.80      0.81      0.80      2200\n",
      "      weighted avg       0.80      0.81      0.80      2200\n",
      "\n"
     ]
    },
    {
     "name": "stderr",
     "output_type": "stream",
     "text": [
      "D:\\anaconda\\lib\\site-packages\\sklearn\\utils\\deprecation.py:87: FutureWarning: Function plot_confusion_matrix is deprecated; Function `plot_confusion_matrix` is deprecated in 1.0 and will be removed in 1.2. Use one of the class methods: ConfusionMatrixDisplay.from_predictions or ConfusionMatrixDisplay.from_estimator.\n",
      "  warnings.warn(msg, category=FutureWarning)\n"
     ]
    },
    {
     "data": {
      "image/png": "[encoded data removed]",
      "text/plain": [
       "<Figure size 1440x1440 with 2 Axes>"
      ]
     },
     "metadata": {
      "needs_background": "light"
     },
     "output_type": "display_data"
    },
    {
     "name": "stdout",
     "output_type": "stream",
     "text": [
      "Accuracy by class: {'art-et-culture': 0.9, 'economie': 0.79, 'faits-divers': 0.955, 'marocains-du-monde': 0.86, 'medias': 0.865, 'orbites': 0.455, 'politique': 0.78, 'regions': 0.775, 'societe': 0.58, 'sport': 0.97, 'tamazight': 0.95}\n"
     ]
    }
   ],
   "source": [
    "def SGDClassifier_(train_data, test_data):\n",
    "    # Shuffle the training data\n",
    "    shuffled_train = shuffle(train_data)\n",
    "\n",
    "    # Split the training and test data \n",
    "    X_train = shuffled_train[\"storyClean\"]\n",
    "    y_train = shuffled_train[\"topic\"]\n",
    "    \n",
    "    X_test = test_data[\"storyClean\"]\n",
    "    y_test = test_data[\"topic\"]\n",
    "\n",
    "    # Vectorize the input data using a CountVectorizer\n",
    "    vectorizer = CountVectorizer()\n",
    "    X_train_vectorized = vectorizer.fit_transform(X_train)\n",
    "    X_test_vectorized = vectorizer.transform(X_test)\n",
    "   \n",
    "    # Create an instance of the SGDClassifier with a maximum of 1000 iterations and a tolerance of 1e-3\n",
    "    clf = SGDClassifier(max_iter=1000, tol=1e-3)\n",
    "    \n",
    "    # Fit the classifier to the vectorized training data and target variables\n",
    "    clf.fit(X_train_vectorized, y_train)\n",
    "\n",
    "    # Make predictions on the vectorized test data and print the classification report\n",
    "    y_pred = clf.predict(X_test_vectorized)\n",
    "    print('SGD Classifier')\n",
    "    print(classification_report(y_test, y_pred))\n",
    "\n",
    "    # Draw the confusion matrix \n",
    "    disp = plot_confusion_matrix(clf, X_test_vectorized, y_test, cmap=plt.cm.Blues, display_labels=clf.classes_)\n",
    "    disp.ax_.set_title(\"Confusion Matrix SGDClassifier\")\n",
    "    disp.ax_.grid(False)  \n",
    "    plt.gcf().set_size_inches(20, 20) \n",
    "    plt.show()\n",
    "\n",
    "    # Calculate and print the accuracy for each class\n",
    "    accuracy_dict = {}\n",
    "    for c in clf.classes_:\n",
    "        indices = y_test == c\n",
    "        accuracy = accuracy_score(y_test[indices], y_pred[indices])\n",
    "        accuracy_dict[c] = accuracy\n",
    "    print('Accuracy by class:', accuracy_dict)\n",
    "    \n",
    "# Call SGD Classifier\n",
    "SGDClassifier_(train_data, test_data)"
   ]
  },
  {
   "cell_type": "markdown",
   "id": "9080063d",
   "metadata": {},
   "source": [
    "# Conclusion\n",
    "\n",
    "\n",
    "## Describe briefly the meaning of each result using Tamazight Class\n",
    "\n",
    "Based on the provided information, we can do the following analysis for the **Tamazight** class:\n",
    "\n",
    "**Precision**: The precision of the Tamazight class is 0.95, which means that out of all the instances predicted as Tamazight, 95% of them were actually Tamazight.\n",
    "\n",
    "**Recall**: The recall of the Tamazight class is 0.95, which means that out of\n",
    "all the actual instances that are Tamazight, 95% of them were correctly predicted as Tamazight.\n",
    "\n",
    "**F1 Score**: The F1 score of the Tamazight class is 0.95, which is the harmonic mean of precision and recall. It is a balanced measurethat takes both precision and recall into account.\n",
    "\n",
    "To calculate the **accuracy** for the Tamazight class,we need to know the number of correctly classified instances of Tamazight in the test set. Let's assume that the classifier correctly \n",
    "classified 190 instances in the Tamazight test set out of 200. Then, \n",
    "the accuracy for the Tamazight class would be:\n",
    "\n",
    "**Accuracy** = (number of correctly classified \n",
    "instances) / (total number of instances) = 190 / 200 = 0.95\n",
    "\n",
    "Therefore, the accuracy for the Tamazight class is 95%. This means that out of all the \n",
    "instances in the Tamazight test set, 95% were correctly classified by the classifier.\n",
    "\n",
    "### -----------------------------------------------------------------------------------------\n",
    "\n",
    "## A confusion matrix\n",
    "is a table that is often used to evaluate the performance of a classifier on a set of test data for which the true values are known. It compares the predicted class labels with the true class labels and shows how often the classifier correctly or incorrectly predicted each class.\n",
    "\n",
    "The confusion matrix contains four elements: true positives (TP), true negatives (TN), false positives (FP), and false negatives (FN).\n",
    "\n",
    "**True positives (TP)** are the number of instances that were correctly classified as positive by the classifier. This means that the instance was actually positive and the classifier predicted it as positive.\n",
    "\n",
    "**True negatives (TN)** are the number of instances that were correctly classified as negative by the classifier. This means that the instance was actually negative and the classifier predicted it as negative.\n",
    "\n",
    "**False positives (FP)** are the number of instances that were incorrectly classified as positive by the classifier. This means that the instance was actually negative but the classifier predicted it as positive.\n",
    "\n",
    "**False negatives (FN)** are the number of instances that were incorrectly classified as negative by the classifier. This means that the instance was actually positive but the classifier predicted it as negative.\n",
    "\n",
    "The confusion matrix is often visualized as a table with the predicted class labels on the horizontal axis and the true class labels on the vertical axis. The number of instances that fall into each category (TP, TN, FP, FN) is then displayed in the corresponding cell of the table.\n",
    "\n",
    "By analyzing the values in the confusion matrix, we can calculate various performance metrics for the classifier, such as accuracy, precision, recall, and F1 score. These metrics provide further insights into the classifier's performance and can help us evaluate and improve the model.\n",
    "\n",
    "### -----------------------------------------------------------------------------------------\n",
    "## Some enhancements that I may think about to achieve better results.\n",
    "\n",
    "**1.Feature Engineering**: The features used to train the classifier play a critical role in determining its performance. I may want to experiment with different feature extraction techniques or try creating new features from the existing ones to improve the model's accuracy. For example, you could try using more advanced techniques such as word embeddings or topic modeling to extract more meaningful features from the text data.\n",
    "\n",
    "**2.Data Augmentation**: Sometimes, the classifier may not have enough training data to learn from, which can lead to poor performance. I could try augmenting the existing training data by adding more samples ."
   ]
  },
  {
   "cell_type": "code",
   "execution_count": null,
   "id": "5f88ce28",
   "metadata": {},
   "outputs": [],
   "source": []
  }
 ],
 "metadata": {
  "kernelspec": {
   "display_name": "Python 3 (ipykernel)",
   "language": "python",
   "name": "python3"
  },
  "language_info": {
   "codemirror_mode": {
    "name": "ipython",
    "version": 3
   },
   "file_extension": ".py",
   "mimetype": "text/x-python",
   "name": "python",
   "nbconvert_exporter": "python",
   "pygments_lexer": "ipython3",
   "version": "3.9.12"
  }
 },
 "nbformat": 4,
 "nbformat_minor": 5
}
